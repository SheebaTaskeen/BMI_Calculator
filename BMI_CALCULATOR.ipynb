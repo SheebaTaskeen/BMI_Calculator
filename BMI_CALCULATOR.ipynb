{
 "cells": [
  {
   "cell_type": "code",
   "execution_count": 2,
   "id": "9c9ea8ac-0662-4089-bc04-11a626b6572d",
   "metadata": {},
   "outputs": [
    {
     "name": "stdout",
     "output_type": "stream",
     "text": [
      "Welcome to the BMI Calculator\n"
     ]
    },
    {
     "name": "stdin",
     "output_type": "stream",
     "text": [
      "Please enter your weight (in kilograms):  45\n",
      "Please enter your height (in meters):  1.45\n"
     ]
    },
    {
     "name": "stdout",
     "output_type": "stream",
     "text": [
      "\n",
      "Your BMI is: 21.40\n",
      "Category: Normal weight\n"
     ]
    }
   ],
   "source": [
    "def calculate_bmi(weight, height):\n",
    "    return weight / (height ** 2)\n",
    "def classify_bmi(bmi):\n",
    "    if bmi < 18.5:\n",
    "        return \"Underweight\"\n",
    "    elif 18.5 <= bmi < 24.9:\n",
    "        return \"Normal weight\"\n",
    "    elif 25 <= bmi < 29.9:\n",
    "        return \"Overweight\"\n",
    "    else:\n",
    "        return \"Obesity\"\n",
    "def main():\n",
    "    print(\"Welcome to the BMI Calculator\")\n",
    "    weight = float(input(\"Please enter your weight (in kilograms): \"))\n",
    "    height = float(input(\"Please enter your height (in meters): \"))\n",
    "    bmi = calculate_bmi(weight, height)\n",
    "    category = classify_bmi(bmi)\n",
    "    print(f\"\\nYour BMI is: {bmi:.2f}\")\n",
    "    print(f\"Category: {category}\")\n",
    "if __name__ == \"__main__\":\n",
    "    main()"
   ]
  },
  {
   "cell_type": "code",
   "execution_count": null,
   "id": "64da73ef-f432-4d27-8975-ef9621860586",
   "metadata": {},
   "outputs": [],
   "source": []
  }
 ],
 "metadata": {
  "kernelspec": {
   "display_name": "Python 3 (ipykernel)",
   "language": "python",
   "name": "python3"
  },
  "language_info": {
   "codemirror_mode": {
    "name": "ipython",
    "version": 3
   },
   "file_extension": ".py",
   "mimetype": "text/x-python",
   "name": "python",
   "nbconvert_exporter": "python",
   "pygments_lexer": "ipython3",
   "version": "3.12.7"
  }
 },
 "nbformat": 4,
 "nbformat_minor": 5
}
